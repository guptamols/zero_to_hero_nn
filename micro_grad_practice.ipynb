{
  "nbformat": 4,
  "nbformat_minor": 0,
  "metadata": {
    "colab": {
      "provenance": [],
      "authorship_tag": "ABX9TyPLcv96QEVaD6SD8wSPdQsZ",
      "include_colab_link": true
    },
    "kernelspec": {
      "name": "python3",
      "display_name": "Python 3"
    },
    "language_info": {
      "name": "python"
    }
  },
  "cells": [
    {
      "cell_type": "markdown",
      "metadata": {
        "id": "view-in-github",
        "colab_type": "text"
      },
      "source": [
        "<a href=\"https://colab.research.google.com/github/guptamols/zero_to_hero_nn/blob/till_29_30_video/micro_grad_practice.ipynb\" target=\"_parent\"><img src=\"https://colab.research.google.com/assets/colab-badge.svg\" alt=\"Open In Colab\"/></a>"
      ]
    },
    {
      "cell_type": "markdown",
      "source": [
        "### References\n",
        "https://github.com/AayushSameerShah/Neural-Net-Zero-to-Hero-with-Andrej\n",
        "\n",
        "https://karpathy.medium.com/yes-you-should-understand-backprop-e2f06eab496b\n",
        "\n",
        "https://medium.com/@0ssamaak0/how-open-ais-andrej-karpathy-made-one-of-the-best-tutorials-in-deep-learning-e6b6445a2d05\n",
        "\n",
        "https://github.com/karpathy/nn-zero-to-hero/tree/master\n",
        "\n",
        "https://colab.research.google.com/drive/11SbzRCfRAXyveiri8CJ7Bjbn4MfiyvsL#scrollTo=yk3QDMPjWyYp\n",
        "\n",
        "https://github.com/Anri-Lombard/micrograd"
      ],
      "metadata": {
        "id": "V_LXtzP7dz2N"
      }
    },
    {
      "cell_type": "code",
      "execution_count": 1,
      "metadata": {
        "colab": {
          "base_uri": "https://localhost:8080/"
        },
        "id": "qFK1fHbtaOah",
        "outputId": "7bae7dad-81b0-4838-ce36-059d316db340"
      },
      "outputs": [
        {
          "output_type": "stream",
          "name": "stdout",
          "text": [
            "Mounted at /content/gdrive\n"
          ]
        }
      ],
      "source": [
        "from google.colab import drive\n",
        "drive.mount(\"/content/gdrive\",force_remount=True)"
      ]
    },
    {
      "cell_type": "code",
      "source": [
        "import os\n",
        "os.chdir('gdrive/MyDrive/zero_to_hero_nn/zero_to_hero_nn')"
      ],
      "metadata": {
        "id": "3pg4zK2sbEV2"
      },
      "execution_count": 2,
      "outputs": []
    },
    {
      "cell_type": "code",
      "source": [
        "! pwd"
      ],
      "metadata": {
        "colab": {
          "base_uri": "https://localhost:8080/"
        },
        "id": "RoxLvYkyd9gx",
        "outputId": "82decc7c-3776-48a8-b1e6-2c376562d460"
      },
      "execution_count": 3,
      "outputs": [
        {
          "output_type": "stream",
          "name": "stdout",
          "text": [
            "/content/gdrive/MyDrive/zero_to_hero_nn/zero_to_hero_nn\n"
          ]
        }
      ]
    },
    {
      "cell_type": "markdown",
      "source": [
        "Neural Network has inputs and weights. These inputs and weights are multiplied and then added through complicated layers.\n",
        "\n",
        "To implement this Karpathy is demonstrating building a Value object which basically is a data structure / mathematical expression that:\n",
        "- How the output was constructured. What made what\n",
        "- Which operations made what e.g. * / + / tanh / sigmoid etc\n",
        "- Also calculate the derivatives of the weights so that we know how much the weights need to be changed\n",
        "\n",
        "The nn.py has 4 classes: class Module, Neuron, Layer, MLP"
      ],
      "metadata": {
        "id": "Ubg3WMJNjCpE"
      }
    },
    {
      "cell_type": "code",
      "source": [
        "class Value:\n",
        "\n",
        "    def __init__(self,data,_children=(),_op='',label=''):\n",
        "        self.data = data\n",
        "        self._prev = set(_children)\n",
        "        self._op = _op\n",
        "        self.label=label\n",
        "\n",
        "    def __repr__(self):\n",
        "        return f\"Value(data={self.data})\"\n",
        "\n",
        "    def __add__(self,other):\n",
        "        out = Value(self.data + other.data, (self,other),'+')\n",
        "        return out\n",
        "\n",
        "    def __mul__(self,other):\n",
        "        out = Value(self.data * other.data, (self,other),'*')\n",
        "        return out\n",
        "\n",
        "\n",
        "a = Value(2.0,label='a')\n",
        "b = Value(-3.0,label='b')\n",
        "c = Value(10,label='c')\n",
        "e = a *b ; e.label='e'\n",
        "d = e+c; d.label='d'\n",
        "f=Value(-2.0,label='f')\n",
        "L = d * f; L.label='L'\n",
        "L"
      ],
      "metadata": {
        "id": "BWOwqMTDmcuK",
        "colab": {
          "base_uri": "https://localhost:8080/"
        },
        "outputId": "dc2014fa-2b48-437c-d45d-5ee688af7833"
      },
      "execution_count": 20,
      "outputs": [
        {
          "output_type": "execute_result",
          "data": {
            "text/plain": [
              "Value(data=-8.0)"
            ]
          },
          "metadata": {},
          "execution_count": 20
        }
      ]
    },
    {
      "cell_type": "code",
      "source": [
        "d._prev"
      ],
      "metadata": {
        "colab": {
          "base_uri": "https://localhost:8080/"
        },
        "id": "TWprsORpkxlP",
        "outputId": "d488c8be-d8be-45da-856c-c0467dd39a56"
      },
      "execution_count": 5,
      "outputs": [
        {
          "output_type": "execute_result",
          "data": {
            "text/plain": [
              "{Value(data=-6.0), Value(data=10)}"
            ]
          },
          "metadata": {},
          "execution_count": 5
        }
      ]
    },
    {
      "cell_type": "code",
      "source": [
        "d._op"
      ],
      "metadata": {
        "colab": {
          "base_uri": "https://localhost:8080/",
          "height": 36
        },
        "id": "sZaEE0RBoRrH",
        "outputId": "28e2e5b3-ea4d-422d-9af2-bb84fee3de62"
      },
      "execution_count": 6,
      "outputs": [
        {
          "output_type": "execute_result",
          "data": {
            "text/plain": [
              "'+'"
            ],
            "application/vnd.google.colaboratory.intrinsic+json": {
              "type": "string"
            }
          },
          "metadata": {},
          "execution_count": 6
        }
      ]
    },
    {
      "cell_type": "code",
      "source": [
        "def build(v):\n",
        "    nodes=set();edges=set()\n",
        "    def traversal(v):\n",
        "        #print(v) # just for demo how each node is travelled to.\n",
        "        if v not in nodes:\n",
        "            nodes.add(v)\n",
        "            for child in v._prev:\n",
        "                edges.add((child,v))\n",
        "                traversal(child)\n",
        "    traversal(v)\n",
        "    return nodes,edges\n",
        "\n",
        "# Good example of travelling a chain.\n",
        "# Please note that traversal is called inside build & there is a recursion inside traversal also. So it travels from one node to another\n",
        "# why did we not build traversal outside ?\n",
        "# 1. It helps not define nodes and edges variable and return them again. So it simplifies the code"
      ],
      "metadata": {
        "id": "N8rGdjBZc3FQ"
      },
      "execution_count": 7,
      "outputs": []
    },
    {
      "cell_type": "code",
      "source": [
        "nodes,edges=build(d)\n",
        "print(f\"nodes:{nodes}\")\n",
        "print(f\"edges:{edges}\")"
      ],
      "metadata": {
        "colab": {
          "base_uri": "https://localhost:8080/"
        },
        "id": "-WOvHWlJdjFr",
        "outputId": "8b82c13e-e9cb-4fa8-f2f3-dc3e4ed1047d"
      },
      "execution_count": 8,
      "outputs": [
        {
          "output_type": "stream",
          "name": "stdout",
          "text": [
            "nodes:{Value(data=2.0), Value(data=-6.0), Value(data=-3.0), Value(data=10), Value(data=4.0)}\n",
            "edges:{(Value(data=10), Value(data=4.0)), (Value(data=-6.0), Value(data=4.0)), (Value(data=-3.0), Value(data=-6.0)), (Value(data=2.0), Value(data=-6.0))}\n"
          ]
        }
      ]
    },
    {
      "cell_type": "markdown",
      "source": [
        "A little Intro to Digraph (Working Knowledge)"
      ],
      "metadata": {
        "id": "GKz6gJzR2I_n"
      }
    },
    {
      "cell_type": "code",
      "source": [
        "from graphviz import Digraph"
      ],
      "metadata": {
        "id": "o2GvPhpS2ZXr"
      },
      "execution_count": 9,
      "outputs": []
    },
    {
      "cell_type": "code",
      "source": [
        "dot = Digraph(format='svg',graph_attr={'rankdir':'LR'})\n",
        "\n",
        "dot.node(name='1',label='1',shape='record')\n",
        "dot.node(name='2',label='2',shape='record')\n",
        "dot.edge('1','2') # from and to\n",
        "dot"
      ],
      "metadata": {
        "colab": {
          "base_uri": "https://localhost:8080/",
          "height": 81
        },
        "id": "RkZ6Q6Xxy9mZ",
        "outputId": "bef70f10-8c60-4b8d-b526-cc3b3149a603"
      },
      "execution_count": 10,
      "outputs": [
        {
          "output_type": "execute_result",
          "data": {
            "image/svg+xml": "<?xml version=\"1.0\" encoding=\"UTF-8\" standalone=\"no\"?>\n<!DOCTYPE svg PUBLIC \"-//W3C//DTD SVG 1.1//EN\"\n \"http://www.w3.org/Graphics/SVG/1.1/DTD/svg11.dtd\">\n<!-- Generated by graphviz version 2.43.0 (0)\n -->\n<!-- Title: %3 Pages: 1 -->\n<svg width=\"152pt\" height=\"45pt\"\n viewBox=\"0.00 0.00 152.00 45.00\" xmlns=\"http://www.w3.org/2000/svg\" xmlns:xlink=\"http://www.w3.org/1999/xlink\">\n<g id=\"graph0\" class=\"graph\" transform=\"scale(1 1) rotate(0) translate(4 41)\">\n<title>%3</title>\n<polygon fill=\"white\" stroke=\"transparent\" points=\"-4,4 -4,-41 148,-41 148,4 -4,4\"/>\n<!-- 1 -->\n<g id=\"node1\" class=\"node\">\n<title>1</title>\n<polygon fill=\"none\" stroke=\"black\" points=\"0,-0.5 0,-36.5 54,-36.5 54,-0.5 0,-0.5\"/>\n<text text-anchor=\"middle\" x=\"27\" y=\"-14.8\" font-family=\"Times,serif\" font-size=\"14.00\">1</text>\n</g>\n<!-- 2 -->\n<g id=\"node2\" class=\"node\">\n<title>2</title>\n<polygon fill=\"none\" stroke=\"black\" points=\"90,-0.5 90,-36.5 144,-36.5 144,-0.5 90,-0.5\"/>\n<text text-anchor=\"middle\" x=\"117\" y=\"-14.8\" font-family=\"Times,serif\" font-size=\"14.00\">2</text>\n</g>\n<!-- 1&#45;&gt;2 -->\n<g id=\"edge1\" class=\"edge\">\n<title>1&#45;&gt;2</title>\n<path fill=\"none\" stroke=\"black\" d=\"M54.4,-18.5C62.39,-18.5 71.31,-18.5 79.82,-18.5\"/>\n<polygon fill=\"black\" stroke=\"black\" points=\"79.92,-22 89.92,-18.5 79.92,-15 79.92,-22\"/>\n</g>\n</g>\n</svg>\n",
            "text/plain": [
              "<graphviz.graphs.Digraph at 0x7a9f88168f10>"
            ]
          },
          "metadata": {},
          "execution_count": 10
        }
      ]
    },
    {
      "cell_type": "code",
      "source": [
        "# If you would not have created '2' above then too it would be created but with a default shape\n",
        "\n",
        "dot = Digraph(format='svg',graph_attr={'rankdir':'LR'})\n",
        "\n",
        "dot.node(name='1',label='1',shape='record')\n",
        "dot.edge('1','2') # from and to.\n",
        "dot"
      ],
      "metadata": {
        "colab": {
          "base_uri": "https://localhost:8080/",
          "height": 81
        },
        "id": "ixEsYX9H1qh1",
        "outputId": "c8449657-17af-410c-b063-8d970f4a7ca0"
      },
      "execution_count": 11,
      "outputs": [
        {
          "output_type": "execute_result",
          "data": {
            "image/svg+xml": "<?xml version=\"1.0\" encoding=\"UTF-8\" standalone=\"no\"?>\n<!DOCTYPE svg PUBLIC \"-//W3C//DTD SVG 1.1//EN\"\n \"http://www.w3.org/Graphics/SVG/1.1/DTD/svg11.dtd\">\n<!-- Generated by graphviz version 2.43.0 (0)\n -->\n<!-- Title: %3 Pages: 1 -->\n<svg width=\"152pt\" height=\"45pt\"\n viewBox=\"0.00 0.00 152.00 45.00\" xmlns=\"http://www.w3.org/2000/svg\" xmlns:xlink=\"http://www.w3.org/1999/xlink\">\n<g id=\"graph0\" class=\"graph\" transform=\"scale(1 1) rotate(0) translate(4 41)\">\n<title>%3</title>\n<polygon fill=\"white\" stroke=\"transparent\" points=\"-4,4 -4,-41 148,-41 148,4 -4,4\"/>\n<!-- 1 -->\n<g id=\"node1\" class=\"node\">\n<title>1</title>\n<polygon fill=\"none\" stroke=\"black\" points=\"0,-0.5 0,-36.5 54,-36.5 54,-0.5 0,-0.5\"/>\n<text text-anchor=\"middle\" x=\"27\" y=\"-14.8\" font-family=\"Times,serif\" font-size=\"14.00\">1</text>\n</g>\n<!-- 2 -->\n<g id=\"node2\" class=\"node\">\n<title>2</title>\n<ellipse fill=\"none\" stroke=\"black\" cx=\"117\" cy=\"-18.5\" rx=\"27\" ry=\"18\"/>\n<text text-anchor=\"middle\" x=\"117\" y=\"-14.8\" font-family=\"Times,serif\" font-size=\"14.00\">2</text>\n</g>\n<!-- 1&#45;&gt;2 -->\n<g id=\"edge1\" class=\"edge\">\n<title>1&#45;&gt;2</title>\n<path fill=\"none\" stroke=\"black\" d=\"M54.4,-18.5C62.39,-18.5 71.31,-18.5 79.82,-18.5\"/>\n<polygon fill=\"black\" stroke=\"black\" points=\"79.92,-22 89.92,-18.5 79.92,-15 79.92,-22\"/>\n</g>\n</g>\n</svg>\n",
            "text/plain": [
              "<graphviz.graphs.Digraph at 0x7a9f88169030>"
            ]
          },
          "metadata": {},
          "execution_count": 11
        }
      ]
    },
    {
      "cell_type": "code",
      "source": [
        "def draw_dot(exp_graph):\n",
        "  dot = Digraph(format='svg', graph_attr={'rankdir': 'LR'}) # LR = left to right\n",
        "\n",
        "  nodes, edges = build(exp_graph)\n",
        "  for n in nodes:\n",
        "    uid = str(id(n))\n",
        "    # for any value in the graph, create a rectangular ('record') node for it\n",
        "    # dot.node(name = uid, label = \"{data %.4f}\" % (n.data), shape='record')\n",
        "    dot.node(name = uid, label = f\"{n.label}|data:{n.data:.4f}\", shape='record')\n",
        "    if n._op:\n",
        "      # if this value is a result of some operation, create an op node for it\n",
        "      dot.node(name = uid + n._op, label = n._op)\n",
        "      # and connect this node to it\n",
        "      dot.edge(uid + n._op, uid)\n",
        "\n",
        "  for n1, n2 in edges:\n",
        "    # connect n1 to the op node of n2\n",
        "    dot.edge(str(id(n1)), str(id(n2)) + n2._op)\n",
        "\n",
        "  return dot"
      ],
      "metadata": {
        "id": "GFPKNl9XpAEO"
      },
      "execution_count": 16,
      "outputs": []
    },
    {
      "cell_type": "code",
      "source": [
        "draw_dot(L)"
      ],
      "metadata": {
        "colab": {
          "base_uri": "https://localhost:8080/",
          "height": 266
        },
        "id": "Tp2ffAcJpL-3",
        "outputId": "f45e6305-19b4-4701-82a6-3c1f6284b345"
      },
      "execution_count": 21,
      "outputs": [
        {
          "output_type": "execute_result",
          "data": {
            "image/svg+xml": "<?xml version=\"1.0\" encoding=\"UTF-8\" standalone=\"no\"?>\n<!DOCTYPE svg PUBLIC \"-//W3C//DTD SVG 1.1//EN\"\n \"http://www.w3.org/Graphics/SVG/1.1/DTD/svg11.dtd\">\n<!-- Generated by graphviz version 2.43.0 (0)\n -->\n<!-- Title: %3 Pages: 1 -->\n<svg width=\"728pt\" height=\"184pt\"\n viewBox=\"0.00 0.00 728.00 184.00\" xmlns=\"http://www.w3.org/2000/svg\" xmlns:xlink=\"http://www.w3.org/1999/xlink\">\n<g id=\"graph0\" class=\"graph\" transform=\"scale(1 1) rotate(0) translate(4 180)\">\n<title>%3</title>\n<polygon fill=\"white\" stroke=\"transparent\" points=\"-4,4 -4,-180 724,-180 724,4 -4,4\"/>\n<!-- 134824775247920 -->\n<g id=\"node1\" class=\"node\">\n<title>134824775247920</title>\n<polygon fill=\"none\" stroke=\"black\" points=\"426.5,-64.5 426.5,-110.5 506.5,-110.5 506.5,-64.5 426.5,-64.5\"/>\n<text text-anchor=\"middle\" x=\"466.5\" y=\"-95.3\" font-family=\"Times,serif\" font-size=\"14.00\">d</text>\n<polyline fill=\"none\" stroke=\"black\" points=\"426.5,-87.5 506.5,-87.5 \"/>\n<text text-anchor=\"middle\" x=\"466.5\" y=\"-72.3\" font-family=\"Times,serif\" font-size=\"14.00\">data:4.0000</text>\n</g>\n<!-- 134824775248112* -->\n<g id=\"node5\" class=\"node\">\n<title>134824775248112*</title>\n<ellipse fill=\"none\" stroke=\"black\" cx=\"572\" cy=\"-119.5\" rx=\"27\" ry=\"18\"/>\n<text text-anchor=\"middle\" x=\"572\" y=\"-115.8\" font-family=\"Times,serif\" font-size=\"14.00\">*</text>\n</g>\n<!-- 134824775247920&#45;&gt;134824775248112* -->\n<g id=\"edge4\" class=\"edge\">\n<title>134824775247920&#45;&gt;134824775248112*</title>\n<path fill=\"none\" stroke=\"black\" d=\"M506.63,-99.6C516.74,-102.72 527.54,-106.06 537.34,-109.09\"/>\n<polygon fill=\"black\" stroke=\"black\" points=\"536.54,-112.51 547.13,-112.12 538.61,-105.82 536.54,-112.51\"/>\n</g>\n<!-- 134824775247920+ -->\n<g id=\"node2\" class=\"node\">\n<title>134824775247920+</title>\n<ellipse fill=\"none\" stroke=\"black\" cx=\"361\" cy=\"-87.5\" rx=\"27\" ry=\"18\"/>\n<text text-anchor=\"middle\" x=\"361\" y=\"-83.8\" font-family=\"Times,serif\" font-size=\"14.00\">+</text>\n</g>\n<!-- 134824775247920+&#45;&gt;134824775247920 -->\n<g id=\"edge1\" class=\"edge\">\n<title>134824775247920+&#45;&gt;134824775247920</title>\n<path fill=\"none\" stroke=\"black\" d=\"M388.12,-87.5C396.74,-87.5 406.63,-87.5 416.4,-87.5\"/>\n<polygon fill=\"black\" stroke=\"black\" points=\"416.47,-91 426.47,-87.5 416.47,-84 416.47,-91\"/>\n</g>\n<!-- 134824775248544 -->\n<g id=\"node3\" class=\"node\">\n<title>134824775248544</title>\n<polygon fill=\"none\" stroke=\"black\" points=\"424,-129.5 424,-175.5 509,-175.5 509,-129.5 424,-129.5\"/>\n<text text-anchor=\"middle\" x=\"466.5\" y=\"-160.3\" font-family=\"Times,serif\" font-size=\"14.00\">f</text>\n<polyline fill=\"none\" stroke=\"black\" points=\"424,-152.5 509,-152.5 \"/>\n<text text-anchor=\"middle\" x=\"466.5\" y=\"-137.3\" font-family=\"Times,serif\" font-size=\"14.00\">data:&#45;2.0000</text>\n</g>\n<!-- 134824775248544&#45;&gt;134824775248112* -->\n<g id=\"edge5\" class=\"edge\">\n<title>134824775248544&#45;&gt;134824775248112*</title>\n<path fill=\"none\" stroke=\"black\" d=\"M509,-139.27C518.58,-136.21 528.65,-133 537.83,-130.08\"/>\n<polygon fill=\"black\" stroke=\"black\" points=\"538.9,-133.41 547.36,-127.04 536.77,-126.74 538.9,-133.41\"/>\n</g>\n<!-- 134824775248112 -->\n<g id=\"node4\" class=\"node\">\n<title>134824775248112</title>\n<polygon fill=\"none\" stroke=\"black\" points=\"635,-96.5 635,-142.5 720,-142.5 720,-96.5 635,-96.5\"/>\n<text text-anchor=\"middle\" x=\"677.5\" y=\"-127.3\" font-family=\"Times,serif\" font-size=\"14.00\">L</text>\n<polyline fill=\"none\" stroke=\"black\" points=\"635,-119.5 720,-119.5 \"/>\n<text text-anchor=\"middle\" x=\"677.5\" y=\"-104.3\" font-family=\"Times,serif\" font-size=\"14.00\">data:&#45;8.0000</text>\n</g>\n<!-- 134824775248112*&#45;&gt;134824775248112 -->\n<g id=\"edge2\" class=\"edge\">\n<title>134824775248112*&#45;&gt;134824775248112</title>\n<path fill=\"none\" stroke=\"black\" d=\"M599.12,-119.5C606.87,-119.5 615.64,-119.5 624.42,-119.5\"/>\n<polygon fill=\"black\" stroke=\"black\" points=\"624.68,-123 634.68,-119.5 624.68,-116 624.68,-123\"/>\n</g>\n<!-- 134825650374496 -->\n<g id=\"node6\" class=\"node\">\n<title>134825650374496</title>\n<polygon fill=\"none\" stroke=\"black\" points=\"211,-97.5 211,-143.5 298,-143.5 298,-97.5 211,-97.5\"/>\n<text text-anchor=\"middle\" x=\"254.5\" y=\"-128.3\" font-family=\"Times,serif\" font-size=\"14.00\">c</text>\n<polyline fill=\"none\" stroke=\"black\" points=\"211,-120.5 298,-120.5 \"/>\n<text text-anchor=\"middle\" x=\"254.5\" y=\"-105.3\" font-family=\"Times,serif\" font-size=\"14.00\">data:10.0000</text>\n</g>\n<!-- 134825650374496&#45;&gt;134824775247920+ -->\n<g id=\"edge8\" class=\"edge\">\n<title>134825650374496&#45;&gt;134824775247920+</title>\n<path fill=\"none\" stroke=\"black\" d=\"M298,-107.08C307.53,-104.07 317.5,-100.92 326.6,-98.05\"/>\n<polygon fill=\"black\" stroke=\"black\" points=\"327.94,-101.3 336.42,-94.95 325.83,-94.62 327.94,-101.3\"/>\n</g>\n<!-- 134825601568624 -->\n<g id=\"node7\" class=\"node\">\n<title>134825601568624</title>\n<polygon fill=\"none\" stroke=\"black\" points=\"2.5,-65.5 2.5,-111.5 82.5,-111.5 82.5,-65.5 2.5,-65.5\"/>\n<text text-anchor=\"middle\" x=\"42.5\" y=\"-96.3\" font-family=\"Times,serif\" font-size=\"14.00\">a</text>\n<polyline fill=\"none\" stroke=\"black\" points=\"2.5,-88.5 82.5,-88.5 \"/>\n<text text-anchor=\"middle\" x=\"42.5\" y=\"-73.3\" font-family=\"Times,serif\" font-size=\"14.00\">data:2.0000</text>\n</g>\n<!-- 134824775249360* -->\n<g id=\"node10\" class=\"node\">\n<title>134824775249360*</title>\n<ellipse fill=\"none\" stroke=\"black\" cx=\"148\" cy=\"-55.5\" rx=\"27\" ry=\"18\"/>\n<text text-anchor=\"middle\" x=\"148\" y=\"-51.8\" font-family=\"Times,serif\" font-size=\"14.00\">*</text>\n</g>\n<!-- 134825601568624&#45;&gt;134824775249360* -->\n<g id=\"edge6\" class=\"edge\">\n<title>134825601568624&#45;&gt;134824775249360*</title>\n<path fill=\"none\" stroke=\"black\" d=\"M82.63,-76.02C92.93,-72.74 103.95,-69.23 113.9,-66.05\"/>\n<polygon fill=\"black\" stroke=\"black\" points=\"114.97,-69.39 123.43,-63.01 112.84,-62.72 114.97,-69.39\"/>\n</g>\n<!-- 134825601569680 -->\n<g id=\"node8\" class=\"node\">\n<title>134825601569680</title>\n<polygon fill=\"none\" stroke=\"black\" points=\"0,-0.5 0,-46.5 85,-46.5 85,-0.5 0,-0.5\"/>\n<text text-anchor=\"middle\" x=\"42.5\" y=\"-31.3\" font-family=\"Times,serif\" font-size=\"14.00\">b</text>\n<polyline fill=\"none\" stroke=\"black\" points=\"0,-23.5 85,-23.5 \"/>\n<text text-anchor=\"middle\" x=\"42.5\" y=\"-8.3\" font-family=\"Times,serif\" font-size=\"14.00\">data:&#45;3.0000</text>\n</g>\n<!-- 134825601569680&#45;&gt;134824775249360* -->\n<g id=\"edge7\" class=\"edge\">\n<title>134825601569680&#45;&gt;134824775249360*</title>\n<path fill=\"none\" stroke=\"black\" d=\"M85,-36.33C94.4,-39.24 104.27,-42.29 113.3,-45.08\"/>\n<polygon fill=\"black\" stroke=\"black\" points=\"112.48,-48.49 123.07,-48.1 114.55,-41.8 112.48,-48.49\"/>\n</g>\n<!-- 134824775249360 -->\n<g id=\"node9\" class=\"node\">\n<title>134824775249360</title>\n<polygon fill=\"none\" stroke=\"black\" points=\"212,-32.5 212,-78.5 297,-78.5 297,-32.5 212,-32.5\"/>\n<text text-anchor=\"middle\" x=\"254.5\" y=\"-63.3\" font-family=\"Times,serif\" font-size=\"14.00\">e</text>\n<polyline fill=\"none\" stroke=\"black\" points=\"212,-55.5 297,-55.5 \"/>\n<text text-anchor=\"middle\" x=\"254.5\" y=\"-40.3\" font-family=\"Times,serif\" font-size=\"14.00\">data:&#45;6.0000</text>\n</g>\n<!-- 134824775249360&#45;&gt;134824775247920+ -->\n<g id=\"edge9\" class=\"edge\">\n<title>134824775249360&#45;&gt;134824775247920+</title>\n<path fill=\"none\" stroke=\"black\" d=\"M297.1,-68.24C306.88,-71.23 317.18,-74.39 326.55,-77.26\"/>\n<polygon fill=\"black\" stroke=\"black\" points=\"325.7,-80.66 336.29,-80.24 327.75,-73.96 325.7,-80.66\"/>\n</g>\n<!-- 134824775249360*&#45;&gt;134824775249360 -->\n<g id=\"edge3\" class=\"edge\">\n<title>134824775249360*&#45;&gt;134824775249360</title>\n<path fill=\"none\" stroke=\"black\" d=\"M175.1,-55.5C183.27,-55.5 192.59,-55.5 201.88,-55.5\"/>\n<polygon fill=\"black\" stroke=\"black\" points=\"201.89,-59 211.89,-55.5 201.89,-52 201.89,-59\"/>\n</g>\n</g>\n</svg>\n",
            "text/plain": [
              "<graphviz.graphs.Digraph at 0x7a9f56dc4c40>"
            ]
          },
          "metadata": {},
          "execution_count": 21
        }
      ]
    },
    {
      "cell_type": "code",
      "source": [],
      "metadata": {
        "id": "3qXDC7Zsq81H"
      },
      "execution_count": 13,
      "outputs": []
    }
  ]
}