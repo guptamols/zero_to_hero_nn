{
  "nbformat": 4,
  "nbformat_minor": 0,
  "metadata": {
    "colab": {
      "provenance": [],
      "authorship_tag": "ABX9TyO5cAJilFgJn0j72gCCLOQI",
      "include_colab_link": true
    },
    "kernelspec": {
      "name": "python3",
      "display_name": "Python 3"
    },
    "language_info": {
      "name": "python"
    }
  },
  "cells": [
    {
      "cell_type": "markdown",
      "metadata": {
        "id": "view-in-github",
        "colab_type": "text"
      },
      "source": [
        "<a href=\"https://colab.research.google.com/github/guptamols/zero_to_hero_nn/blob/main/micro_grad_practice.ipynb\" target=\"_parent\"><img src=\"https://colab.research.google.com/assets/colab-badge.svg\" alt=\"Open In Colab\"/></a>"
      ]
    },
    {
      "cell_type": "markdown",
      "source": [
        "### References\n",
        "https://github.com/AayushSameerShah/Neural-Net-Zero-to-Hero-with-Andrej\n",
        "\n",
        "https://karpathy.medium.com/yes-you-should-understand-backprop-e2f06eab496b\n",
        "\n",
        "https://medium.com/@0ssamaak0/how-open-ais-andrej-karpathy-made-one-of-the-best-tutorials-in-deep-learning-e6b6445a2d05\n",
        "\n",
        "https://github.com/karpathy/nn-zero-to-hero/tree/master\n",
        "\n",
        "https://colab.research.google.com/drive/11SbzRCfRAXyveiri8CJ7Bjbn4MfiyvsL#scrollTo=yk3QDMPjWyYp\n",
        "\n",
        "https://github.com/Anri-Lombard/micrograd"
      ],
      "metadata": {
        "id": "V_LXtzP7dz2N"
      }
    },
    {
      "cell_type": "code",
      "execution_count": 1,
      "metadata": {
        "colab": {
          "base_uri": "https://localhost:8080/"
        },
        "id": "qFK1fHbtaOah",
        "outputId": "b5f4aa28-8c0d-4a5b-e707-46f2696e80e4"
      },
      "outputs": [
        {
          "output_type": "stream",
          "name": "stdout",
          "text": [
            "Mounted at /content/gdrive\n"
          ]
        }
      ],
      "source": [
        "from google.colab import drive\n",
        "drive.mount(\"/content/gdrive\",force_remount=True)"
      ]
    },
    {
      "cell_type": "code",
      "source": [
        "import os\n",
        "os.chdir('gdrive/MyDrive/zero_to_hero_nn/zero_to_hero_nn')"
      ],
      "metadata": {
        "id": "3pg4zK2sbEV2"
      },
      "execution_count": 2,
      "outputs": []
    },
    {
      "cell_type": "code",
      "source": [
        "! pwd"
      ],
      "metadata": {
        "colab": {
          "base_uri": "https://localhost:8080/"
        },
        "id": "RoxLvYkyd9gx",
        "outputId": "9841717b-8357-486a-ac32-6feb32996bb9"
      },
      "execution_count": 23,
      "outputs": [
        {
          "output_type": "stream",
          "name": "stdout",
          "text": [
            "/content/gdrive/MyDrive/zero_to_hero_nn/zero_to_hero_nn\n"
          ]
        }
      ]
    },
    {
      "cell_type": "markdown",
      "source": [
        "Neural Network has inputs and weights. These inputs and weights are multiplied and then added through complicated layers.\n",
        "\n",
        "To implement this Karpathy is demonstrating building a Value object which basically is a data structure / mathematical expression that:\n",
        "- How the output was constructured. What made what\n",
        "- Which operations made what e.g. * / + / tanh / sigmoid etc\n",
        "- Also calculate the derivatives of the weights so that we know how much the weights need to be changed\n",
        "\n",
        "The nn.py has 4 classes: class Module, Neuron, Layer, MLP"
      ],
      "metadata": {
        "id": "Ubg3WMJNjCpE"
      }
    },
    {
      "cell_type": "code",
      "source": [
        "class Value:\n",
        "\n",
        "    def __init__(self,data,_children=(),_op='',label=''):\n",
        "        self.data = data\n",
        "        self._prev = set(_children)\n",
        "        self._op = _op\n",
        "        self.label=label\n",
        "\n",
        "    def __repr__(self):\n",
        "        return f\"Value(data={self.data})\"\n",
        "\n",
        "    def __add__(self,other):\n",
        "        out = Value(self.data + other.data, (self,other),'+')\n",
        "        return out\n",
        "\n",
        "    def __mul__(self,other):\n",
        "        out = Value(self.data * other.data, (self,other),'*')\n",
        "        return out\n",
        "\n",
        "\n",
        "a = Value(2.0,label='a')\n",
        "b = Value(-3.0,label='b')\n",
        "c = Value(10,label='c')\n",
        "d=a*b + c\n",
        "\n",
        "d"
      ],
      "metadata": {
        "id": "BWOwqMTDmcuK",
        "colab": {
          "base_uri": "https://localhost:8080/"
        },
        "outputId": "8229f6c7-cc14-4b94-ea2d-10275588f5fd"
      },
      "execution_count": 48,
      "outputs": [
        {
          "output_type": "execute_result",
          "data": {
            "text/plain": [
              "Value(data=4.0)"
            ]
          },
          "metadata": {},
          "execution_count": 48
        }
      ]
    },
    {
      "cell_type": "code",
      "source": [
        "d._prev"
      ],
      "metadata": {
        "colab": {
          "base_uri": "https://localhost:8080/"
        },
        "id": "TWprsORpkxlP",
        "outputId": "898971d9-b04d-4eb6-d6ea-01f3a630dc9c"
      },
      "execution_count": 25,
      "outputs": [
        {
          "output_type": "execute_result",
          "data": {
            "text/plain": [
              "{Value(data=-6.0), Value(data=10)}"
            ]
          },
          "metadata": {},
          "execution_count": 25
        }
      ]
    },
    {
      "cell_type": "code",
      "source": [
        "d._op"
      ],
      "metadata": {
        "colab": {
          "base_uri": "https://localhost:8080/",
          "height": 35
        },
        "id": "sZaEE0RBoRrH",
        "outputId": "670f69e1-2064-4362-92a5-13477c18d37f"
      },
      "execution_count": 26,
      "outputs": [
        {
          "output_type": "execute_result",
          "data": {
            "text/plain": [
              "'+'"
            ],
            "application/vnd.google.colaboratory.intrinsic+json": {
              "type": "string"
            }
          },
          "metadata": {},
          "execution_count": 26
        }
      ]
    },
    {
      "cell_type": "code",
      "source": [
        "def build(v):\n",
        "    nodes=set();edges=set()\n",
        "    def traversal(v):\n",
        "        #print(v) # just for demo how each node is travelled to.\n",
        "        if v not in nodes:\n",
        "            nodes.add(v)\n",
        "            for child in v._prev:\n",
        "                edges.add((child,v))\n",
        "                traversal(child)\n",
        "    traversal(v)\n",
        "    return nodes,edges\n",
        "\n",
        "# Good example of travelling a chain.\n",
        "# Please note that traversal is called inside build & there is a recursion inside traversal also. So it travels from one node to another\n",
        "# why did we not build traversal outside ?\n",
        "# 1. It helps not define nodes and edges variable and return them again. So it simplifies the code"
      ],
      "metadata": {
        "id": "N8rGdjBZc3FQ"
      },
      "execution_count": 49,
      "outputs": []
    },
    {
      "cell_type": "code",
      "source": [
        "nodes,edges=build(d)\n",
        "print(f\"nodes:{nodes}\")\n",
        "print(f\"edges:{edges}\")"
      ],
      "metadata": {
        "colab": {
          "base_uri": "https://localhost:8080/"
        },
        "id": "-WOvHWlJdjFr",
        "outputId": "1eee5094-28ab-49eb-d554-4f8322cb7acc"
      },
      "execution_count": 35,
      "outputs": [
        {
          "output_type": "stream",
          "name": "stdout",
          "text": [
            "nodes:{Value(data=2.0), Value(data=-6.0), Value(data=4.0), Value(data=-3.0), Value(data=10)}\n",
            "edges:{(Value(data=10), Value(data=4.0)), (Value(data=2.0), Value(data=-6.0)), (Value(data=-3.0), Value(data=-6.0)), (Value(data=-6.0), Value(data=4.0))}\n"
          ]
        }
      ]
    },
    {
      "cell_type": "markdown",
      "source": [
        "A little Intro to Digraph (Working Knowledge)"
      ],
      "metadata": {
        "id": "GKz6gJzR2I_n"
      }
    },
    {
      "cell_type": "code",
      "source": [
        "from graphviz import Digraph"
      ],
      "metadata": {
        "id": "o2GvPhpS2ZXr"
      },
      "execution_count": 29,
      "outputs": []
    },
    {
      "cell_type": "code",
      "source": [
        "dot = Digraph(format='svg',graph_attr={'rankdir':'LR'})\n",
        "\n",
        "dot.node(name='1',label='1',shape='record')\n",
        "dot.node(name='2',label='2',shape='record')\n",
        "dot.edge('1','2') # from and to. If you would not have created '2' above then too it would be created\n",
        "dot"
      ],
      "metadata": {
        "colab": {
          "base_uri": "https://localhost:8080/",
          "height": 81
        },
        "id": "RkZ6Q6Xxy9mZ",
        "outputId": "4a283fdf-3916-4f41-ecea-3383026b4d85"
      },
      "execution_count": 30,
      "outputs": [
        {
          "output_type": "execute_result",
          "data": {
            "image/svg+xml": "<?xml version=\"1.0\" encoding=\"UTF-8\" standalone=\"no\"?>\n<!DOCTYPE svg PUBLIC \"-//W3C//DTD SVG 1.1//EN\"\n \"http://www.w3.org/Graphics/SVG/1.1/DTD/svg11.dtd\">\n<!-- Generated by graphviz version 2.43.0 (0)\n -->\n<!-- Title: %3 Pages: 1 -->\n<svg width=\"152pt\" height=\"45pt\"\n viewBox=\"0.00 0.00 152.00 45.00\" xmlns=\"http://www.w3.org/2000/svg\" xmlns:xlink=\"http://www.w3.org/1999/xlink\">\n<g id=\"graph0\" class=\"graph\" transform=\"scale(1 1) rotate(0) translate(4 41)\">\n<title>%3</title>\n<polygon fill=\"white\" stroke=\"transparent\" points=\"-4,4 -4,-41 148,-41 148,4 -4,4\"/>\n<!-- 1 -->\n<g id=\"node1\" class=\"node\">\n<title>1</title>\n<polygon fill=\"none\" stroke=\"black\" points=\"0,-0.5 0,-36.5 54,-36.5 54,-0.5 0,-0.5\"/>\n<text text-anchor=\"middle\" x=\"27\" y=\"-14.8\" font-family=\"Times,serif\" font-size=\"14.00\">1</text>\n</g>\n<!-- 2 -->\n<g id=\"node2\" class=\"node\">\n<title>2</title>\n<polygon fill=\"none\" stroke=\"black\" points=\"90,-0.5 90,-36.5 144,-36.5 144,-0.5 90,-0.5\"/>\n<text text-anchor=\"middle\" x=\"117\" y=\"-14.8\" font-family=\"Times,serif\" font-size=\"14.00\">2</text>\n</g>\n<!-- 1&#45;&gt;2 -->\n<g id=\"edge1\" class=\"edge\">\n<title>1&#45;&gt;2</title>\n<path fill=\"none\" stroke=\"black\" d=\"M54.4,-18.5C62.39,-18.5 71.31,-18.5 79.82,-18.5\"/>\n<polygon fill=\"black\" stroke=\"black\" points=\"79.92,-22 89.92,-18.5 79.92,-15 79.92,-22\"/>\n</g>\n</g>\n</svg>\n",
            "text/plain": [
              "<graphviz.graphs.Digraph at 0x7978f5be30a0>"
            ]
          },
          "metadata": {},
          "execution_count": 30
        }
      ]
    },
    {
      "cell_type": "code",
      "source": [
        "# If you would not have created '2' above then too it would be created but with a default shape\n",
        "\n",
        "dot = Digraph(format='svg',graph_attr={'rankdir':'LR'})\n",
        "\n",
        "dot.node(name='1',label='1',shape='record')\n",
        "dot.edge('1','2') # from and to.\n",
        "dot"
      ],
      "metadata": {
        "colab": {
          "base_uri": "https://localhost:8080/",
          "height": 81
        },
        "id": "ixEsYX9H1qh1",
        "outputId": "818886da-e7a9-484f-d12c-ceb1b86adec5"
      },
      "execution_count": 31,
      "outputs": [
        {
          "output_type": "execute_result",
          "data": {
            "image/svg+xml": "<?xml version=\"1.0\" encoding=\"UTF-8\" standalone=\"no\"?>\n<!DOCTYPE svg PUBLIC \"-//W3C//DTD SVG 1.1//EN\"\n \"http://www.w3.org/Graphics/SVG/1.1/DTD/svg11.dtd\">\n<!-- Generated by graphviz version 2.43.0 (0)\n -->\n<!-- Title: %3 Pages: 1 -->\n<svg width=\"152pt\" height=\"45pt\"\n viewBox=\"0.00 0.00 152.00 45.00\" xmlns=\"http://www.w3.org/2000/svg\" xmlns:xlink=\"http://www.w3.org/1999/xlink\">\n<g id=\"graph0\" class=\"graph\" transform=\"scale(1 1) rotate(0) translate(4 41)\">\n<title>%3</title>\n<polygon fill=\"white\" stroke=\"transparent\" points=\"-4,4 -4,-41 148,-41 148,4 -4,4\"/>\n<!-- 1 -->\n<g id=\"node1\" class=\"node\">\n<title>1</title>\n<polygon fill=\"none\" stroke=\"black\" points=\"0,-0.5 0,-36.5 54,-36.5 54,-0.5 0,-0.5\"/>\n<text text-anchor=\"middle\" x=\"27\" y=\"-14.8\" font-family=\"Times,serif\" font-size=\"14.00\">1</text>\n</g>\n<!-- 2 -->\n<g id=\"node2\" class=\"node\">\n<title>2</title>\n<ellipse fill=\"none\" stroke=\"black\" cx=\"117\" cy=\"-18.5\" rx=\"27\" ry=\"18\"/>\n<text text-anchor=\"middle\" x=\"117\" y=\"-14.8\" font-family=\"Times,serif\" font-size=\"14.00\">2</text>\n</g>\n<!-- 1&#45;&gt;2 -->\n<g id=\"edge1\" class=\"edge\">\n<title>1&#45;&gt;2</title>\n<path fill=\"none\" stroke=\"black\" d=\"M54.4,-18.5C62.39,-18.5 71.31,-18.5 79.82,-18.5\"/>\n<polygon fill=\"black\" stroke=\"black\" points=\"79.92,-22 89.92,-18.5 79.92,-15 79.92,-22\"/>\n</g>\n</g>\n</svg>\n",
            "text/plain": [
              "<graphviz.graphs.Digraph at 0x7978f5be19f0>"
            ]
          },
          "metadata": {},
          "execution_count": 31
        }
      ]
    },
    {
      "cell_type": "code",
      "source": [
        "def draw_dot(exp_graph):\n",
        "  dot = Digraph(format='svg', graph_attr={'rankdir': 'LR'}) # LR = left to right\n",
        "\n",
        "  nodes, edges = build(exp_graph)\n",
        "  for n in nodes:\n",
        "    uid = str(id(n))\n",
        "    # for any value in the graph, create a rectangular ('record') node for it\n",
        "    # dot.node(name = uid, label = \"{data %.4f}\" % (n.data), shape='record')\n",
        "    dot.node(name = uid, label = f\"{n.label}|data:{n.data:.4f}\", shape='record')\n",
        "    if n._op:\n",
        "      # if this value is a result of some operation, create an op node for it\n",
        "      dot.node(name = uid + n._op, label = n._op)\n",
        "      # and connect this node to it\n",
        "      dot.edge(uid + n._op, uid)\n",
        "\n",
        "  for n1, n2 in edges:\n",
        "    # connect n1 to the op node of n2\n",
        "    dot.edge(str(id(n1)), str(id(n2)) + n2._op)\n",
        "\n",
        "  return dot"
      ],
      "metadata": {
        "id": "GFPKNl9XpAEO"
      },
      "execution_count": 52,
      "outputs": []
    },
    {
      "cell_type": "code",
      "source": [
        "draw_dot(d)"
      ],
      "metadata": {
        "colab": {
          "base_uri": "https://localhost:8080/",
          "height": 224
        },
        "id": "Tp2ffAcJpL-3",
        "outputId": "ed1046a6-e316-4ffc-b9c6-3cf593de3b38"
      },
      "execution_count": 53,
      "outputs": [
        {
          "output_type": "execute_result",
          "data": {
            "image/svg+xml": "<?xml version=\"1.0\" encoding=\"UTF-8\" standalone=\"no\"?>\n<!DOCTYPE svg PUBLIC \"-//W3C//DTD SVG 1.1//EN\"\n \"http://www.w3.org/Graphics/SVG/1.1/DTD/svg11.dtd\">\n<!-- Generated by graphviz version 2.43.0 (0)\n -->\n<!-- Title: %3 Pages: 1 -->\n<svg width=\"512pt\" height=\"152pt\"\n viewBox=\"0.00 0.00 512.00 152.00\" xmlns=\"http://www.w3.org/2000/svg\" xmlns:xlink=\"http://www.w3.org/1999/xlink\">\n<g id=\"graph0\" class=\"graph\" transform=\"scale(1 1) rotate(0) translate(4 148)\">\n<title>%3</title>\n<polygon fill=\"white\" stroke=\"transparent\" points=\"-4,4 -4,-148 508,-148 508,4 -4,4\"/>\n<!-- 133560425922128 -->\n<g id=\"node1\" class=\"node\">\n<title>133560425922128</title>\n<polygon fill=\"none\" stroke=\"black\" points=\"212,-32.5 212,-78.5 297,-78.5 297,-32.5 212,-32.5\"/>\n<text text-anchor=\"middle\" x=\"254.5\" y=\"-63.3\" font-family=\"Times,serif\" font-size=\"14.00\"> </text>\n<polyline fill=\"none\" stroke=\"black\" points=\"212,-55.5 297,-55.5 \"/>\n<text text-anchor=\"middle\" x=\"254.5\" y=\"-40.3\" font-family=\"Times,serif\" font-size=\"14.00\">data:&#45;6.0000</text>\n</g>\n<!-- 133560425914016+ -->\n<g id=\"node4\" class=\"node\">\n<title>133560425914016+</title>\n<ellipse fill=\"none\" stroke=\"black\" cx=\"361\" cy=\"-87.5\" rx=\"27\" ry=\"18\"/>\n<text text-anchor=\"middle\" x=\"361\" y=\"-83.8\" font-family=\"Times,serif\" font-size=\"14.00\">+</text>\n</g>\n<!-- 133560425922128&#45;&gt;133560425914016+ -->\n<g id=\"edge6\" class=\"edge\">\n<title>133560425922128&#45;&gt;133560425914016+</title>\n<path fill=\"none\" stroke=\"black\" d=\"M297.1,-68.24C306.88,-71.23 317.18,-74.39 326.55,-77.26\"/>\n<polygon fill=\"black\" stroke=\"black\" points=\"325.7,-80.66 336.29,-80.24 327.75,-73.96 325.7,-80.66\"/>\n</g>\n<!-- 133560425922128* -->\n<g id=\"node2\" class=\"node\">\n<title>133560425922128*</title>\n<ellipse fill=\"none\" stroke=\"black\" cx=\"148\" cy=\"-55.5\" rx=\"27\" ry=\"18\"/>\n<text text-anchor=\"middle\" x=\"148\" y=\"-51.8\" font-family=\"Times,serif\" font-size=\"14.00\">*</text>\n</g>\n<!-- 133560425922128*&#45;&gt;133560425922128 -->\n<g id=\"edge1\" class=\"edge\">\n<title>133560425922128*&#45;&gt;133560425922128</title>\n<path fill=\"none\" stroke=\"black\" d=\"M175.1,-55.5C183.27,-55.5 192.59,-55.5 201.88,-55.5\"/>\n<polygon fill=\"black\" stroke=\"black\" points=\"201.89,-59 211.89,-55.5 201.89,-52 201.89,-59\"/>\n</g>\n<!-- 133560425914016 -->\n<g id=\"node3\" class=\"node\">\n<title>133560425914016</title>\n<polygon fill=\"none\" stroke=\"black\" points=\"424,-64.5 424,-110.5 504,-110.5 504,-64.5 424,-64.5\"/>\n<text text-anchor=\"middle\" x=\"464\" y=\"-95.3\" font-family=\"Times,serif\" font-size=\"14.00\"> </text>\n<polyline fill=\"none\" stroke=\"black\" points=\"424,-87.5 504,-87.5 \"/>\n<text text-anchor=\"middle\" x=\"464\" y=\"-72.3\" font-family=\"Times,serif\" font-size=\"14.00\">data:4.0000</text>\n</g>\n<!-- 133560425914016+&#45;&gt;133560425914016 -->\n<g id=\"edge2\" class=\"edge\">\n<title>133560425914016+&#45;&gt;133560425914016</title>\n<path fill=\"none\" stroke=\"black\" d=\"M388.01,-87.5C395.82,-87.5 404.67,-87.5 413.48,-87.5\"/>\n<polygon fill=\"black\" stroke=\"black\" points=\"413.73,-91 423.73,-87.5 413.73,-84 413.73,-91\"/>\n</g>\n<!-- 133560425915600 -->\n<g id=\"node5\" class=\"node\">\n<title>133560425915600</title>\n<polygon fill=\"none\" stroke=\"black\" points=\"211,-97.5 211,-143.5 298,-143.5 298,-97.5 211,-97.5\"/>\n<text text-anchor=\"middle\" x=\"254.5\" y=\"-128.3\" font-family=\"Times,serif\" font-size=\"14.00\">c</text>\n<polyline fill=\"none\" stroke=\"black\" points=\"211,-120.5 298,-120.5 \"/>\n<text text-anchor=\"middle\" x=\"254.5\" y=\"-105.3\" font-family=\"Times,serif\" font-size=\"14.00\">data:10.0000</text>\n</g>\n<!-- 133560425915600&#45;&gt;133560425914016+ -->\n<g id=\"edge3\" class=\"edge\">\n<title>133560425915600&#45;&gt;133560425914016+</title>\n<path fill=\"none\" stroke=\"black\" d=\"M298,-107.08C307.53,-104.07 317.5,-100.92 326.6,-98.05\"/>\n<polygon fill=\"black\" stroke=\"black\" points=\"327.94,-101.3 336.42,-94.95 325.83,-94.62 327.94,-101.3\"/>\n</g>\n<!-- 133560425911088 -->\n<g id=\"node6\" class=\"node\">\n<title>133560425911088</title>\n<polygon fill=\"none\" stroke=\"black\" points=\"2.5,-65.5 2.5,-111.5 82.5,-111.5 82.5,-65.5 2.5,-65.5\"/>\n<text text-anchor=\"middle\" x=\"42.5\" y=\"-96.3\" font-family=\"Times,serif\" font-size=\"14.00\">a</text>\n<polyline fill=\"none\" stroke=\"black\" points=\"2.5,-88.5 82.5,-88.5 \"/>\n<text text-anchor=\"middle\" x=\"42.5\" y=\"-73.3\" font-family=\"Times,serif\" font-size=\"14.00\">data:2.0000</text>\n</g>\n<!-- 133560425911088&#45;&gt;133560425922128* -->\n<g id=\"edge5\" class=\"edge\">\n<title>133560425911088&#45;&gt;133560425922128*</title>\n<path fill=\"none\" stroke=\"black\" d=\"M82.63,-76.02C92.93,-72.74 103.95,-69.23 113.9,-66.05\"/>\n<polygon fill=\"black\" stroke=\"black\" points=\"114.97,-69.39 123.43,-63.01 112.84,-62.72 114.97,-69.39\"/>\n</g>\n<!-- 133560425915216 -->\n<g id=\"node7\" class=\"node\">\n<title>133560425915216</title>\n<polygon fill=\"none\" stroke=\"black\" points=\"0,-0.5 0,-46.5 85,-46.5 85,-0.5 0,-0.5\"/>\n<text text-anchor=\"middle\" x=\"42.5\" y=\"-31.3\" font-family=\"Times,serif\" font-size=\"14.00\">b</text>\n<polyline fill=\"none\" stroke=\"black\" points=\"0,-23.5 85,-23.5 \"/>\n<text text-anchor=\"middle\" x=\"42.5\" y=\"-8.3\" font-family=\"Times,serif\" font-size=\"14.00\">data:&#45;3.0000</text>\n</g>\n<!-- 133560425915216&#45;&gt;133560425922128* -->\n<g id=\"edge4\" class=\"edge\">\n<title>133560425915216&#45;&gt;133560425922128*</title>\n<path fill=\"none\" stroke=\"black\" d=\"M85,-36.33C94.4,-39.24 104.27,-42.29 113.3,-45.08\"/>\n<polygon fill=\"black\" stroke=\"black\" points=\"112.48,-48.49 123.07,-48.1 114.55,-41.8 112.48,-48.49\"/>\n</g>\n</g>\n</svg>\n",
            "text/plain": [
              "<graphviz.graphs.Digraph at 0x7978f5be37c0>"
            ]
          },
          "metadata": {},
          "execution_count": 53
        }
      ]
    },
    {
      "cell_type": "code",
      "source": [],
      "metadata": {
        "id": "3qXDC7Zsq81H"
      },
      "execution_count": 33,
      "outputs": []
    }
  ]
}