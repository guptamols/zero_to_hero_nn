{
  "nbformat": 4,
  "nbformat_minor": 0,
  "metadata": {
    "colab": {
      "provenance": [],
      "authorship_tag": "ABX9TyNqj6i8F0jA5w7KpN9cCUje",
      "include_colab_link": true
    },
    "kernelspec": {
      "name": "python3",
      "display_name": "Python 3"
    },
    "language_info": {
      "name": "python"
    }
  },
  "cells": [
    {
      "cell_type": "markdown",
      "metadata": {
        "id": "view-in-github",
        "colab_type": "text"
      },
      "source": [
        "<a href=\"https://colab.research.google.com/github/guptamols/zero_to_hero_nn/blob/main/micro_grad_practice.ipynb\" target=\"_parent\"><img src=\"https://colab.research.google.com/assets/colab-badge.svg\" alt=\"Open In Colab\"/></a>"
      ]
    },
    {
      "cell_type": "markdown",
      "source": [
        "### References\n",
        "https://github.com/AayushSameerShah/Neural-Net-Zero-to-Hero-with-Andrej\n",
        "\n",
        "https://karpathy.medium.com/yes-you-should-understand-backprop-e2f06eab496b\n",
        "\n",
        "https://medium.com/@0ssamaak0/how-open-ais-andrej-karpathy-made-one-of-the-best-tutorials-in-deep-learning-e6b6445a2d05\n",
        "\n",
        "https://github.com/karpathy/nn-zero-to-hero/tree/master\n",
        "\n",
        "https://colab.research.google.com/drive/11SbzRCfRAXyveiri8CJ7Bjbn4MfiyvsL#scrollTo=yk3QDMPjWyYp\n",
        "\n",
        "https://github.com/Anri-Lombard/micrograd"
      ],
      "metadata": {
        "id": "V_LXtzP7dz2N"
      }
    },
    {
      "cell_type": "code",
      "execution_count": 1,
      "metadata": {
        "colab": {
          "base_uri": "https://localhost:8080/"
        },
        "id": "qFK1fHbtaOah",
        "outputId": "afa5a28d-6508-45a4-cddd-a0182cd55969"
      },
      "outputs": [
        {
          "output_type": "stream",
          "name": "stdout",
          "text": [
            "Mounted at /content/gdrive\n"
          ]
        }
      ],
      "source": [
        "from google.colab import drive\n",
        "drive.mount(\"/content/gdrive\",force_remount=True)"
      ]
    },
    {
      "cell_type": "code",
      "source": [
        "import os\n",
        "os.chdir('gdrive/MyDrive/zero_to_hero_nn/zero_to_hero_nn')"
      ],
      "metadata": {
        "id": "3pg4zK2sbEV2"
      },
      "execution_count": 2,
      "outputs": []
    },
    {
      "cell_type": "code",
      "source": [
        "! pwd"
      ],
      "metadata": {
        "colab": {
          "base_uri": "https://localhost:8080/"
        },
        "id": "RoxLvYkyd9gx",
        "outputId": "084ae754-0220-4348-8d89-7c6c6c48d169"
      },
      "execution_count": 3,
      "outputs": [
        {
          "output_type": "stream",
          "name": "stdout",
          "text": [
            "/content/gdrive/MyDrive/zero_to_hero_nn/zero_to_hero_nn\n"
          ]
        }
      ]
    },
    {
      "cell_type": "markdown",
      "source": [
        "Neural Network has inputs and weights. These inputs and weights are multiplied and then added through complicated layers.\n",
        "\n",
        "To implement this Karpathy is demonstrating building a Value object which basically is a data structure / mathematical expression that:\n",
        "- How the output was constructured. What made what\n",
        "- Which operations made what e.g. * / + / tanh / sigmoid etc\n",
        "- Also calculate the derivatives of the weights so that we know how much the weights need to be changed\n",
        "\n",
        "The nn.py has 4 classes: class Module, Neuron, Layer, MLP"
      ],
      "metadata": {
        "id": "Ubg3WMJNjCpE"
      }
    },
    {
      "cell_type": "code",
      "source": [
        "class Value:\n",
        "\n",
        "    def __init__(self,data,_children=(),_op=''):\n",
        "        self.data = data\n",
        "        self._prev = set(_children)\n",
        "        self._op = _op\n",
        "\n",
        "    def __repr__(self):\n",
        "        return f\"Value(data={self.data})\"\n",
        "\n",
        "    def __add__(self,other):\n",
        "        out = Value(self.data + other.data, (self,other),'+')\n",
        "        return out\n",
        "\n",
        "    def __mul__(self,other):\n",
        "        out = Value(self.data * other.data, (self,other),'*')\n",
        "        return out\n",
        "\n",
        "\n",
        "a = Value(2.0)\n",
        "b = Value(-3.0)\n",
        "c = Value(10)\n",
        "d=a*b + c\n",
        "\n",
        "d"
      ],
      "metadata": {
        "id": "BWOwqMTDmcuK",
        "colab": {
          "base_uri": "https://localhost:8080/"
        },
        "outputId": "fe32cbb6-de91-4bf3-958a-fa36a108660d"
      },
      "execution_count": 4,
      "outputs": [
        {
          "output_type": "execute_result",
          "data": {
            "text/plain": [
              "Value(data=4.0)"
            ]
          },
          "metadata": {},
          "execution_count": 4
        }
      ]
    },
    {
      "cell_type": "code",
      "source": [
        "d._prev"
      ],
      "metadata": {
        "colab": {
          "base_uri": "https://localhost:8080/"
        },
        "id": "TWprsORpkxlP",
        "outputId": "770a5493-2f81-44d0-e618-2604512011ab"
      },
      "execution_count": 5,
      "outputs": [
        {
          "output_type": "execute_result",
          "data": {
            "text/plain": [
              "{Value(data=-6.0), Value(data=10)}"
            ]
          },
          "metadata": {},
          "execution_count": 5
        }
      ]
    },
    {
      "cell_type": "code",
      "source": [
        "d._op"
      ],
      "metadata": {
        "colab": {
          "base_uri": "https://localhost:8080/",
          "height": 35
        },
        "id": "sZaEE0RBoRrH",
        "outputId": "14c1d443-6c24-439c-e140-35d72689387b"
      },
      "execution_count": 6,
      "outputs": [
        {
          "output_type": "execute_result",
          "data": {
            "text/plain": [
              "'+'"
            ],
            "application/vnd.google.colaboratory.intrinsic+json": {
              "type": "string"
            }
          },
          "metadata": {},
          "execution_count": 6
        }
      ]
    },
    {
      "cell_type": "code",
      "source": [
        "from graphviz import Digraph\n",
        "\n",
        "def trace(root):\n",
        "  # builds a set of all nodes and edges in a graph\n",
        "  nodes, edges = set(), set()\n",
        "  def build(v):\n",
        "    if v not in nodes:\n",
        "      nodes.add(v)\n",
        "      for child in v._prev:\n",
        "        edges.add((child, v))\n",
        "        build(child)\n",
        "  build(root)\n",
        "  return nodes, edges\n",
        "\n",
        "def draw_dot(root):\n",
        "  dot = Digraph(format='svg', graph_attr={'rankdir': 'LR'}) # LR = left to right\n",
        "\n",
        "  nodes, edges = trace(root)\n",
        "  for n in nodes:\n",
        "    uid = str(id(n))\n",
        "    # for any value in the graph, create a rectangular ('record') node for it\n",
        "    # dot.node(name = uid, label = \"{data %.4f}\" % (n.data), shape='record')\n",
        "    dot.node(name = uid, label = f\"data {n.data:.4f}\", shape='record')\n",
        "    if n._op:\n",
        "      # if this value is a result of some operation, create an op node for it\n",
        "      dot.node(name = uid + n._op, label = n._op)\n",
        "      # and connect this node to it\n",
        "      dot.edge(uid + n._op, uid)\n",
        "\n",
        "  for n1, n2 in edges:\n",
        "    # connect n1 to the op node of n2\n",
        "    dot.edge(str(id(n1)), str(id(n2)) + n2._op)\n",
        "\n",
        "  return dot"
      ],
      "metadata": {
        "id": "GFPKNl9XpAEO"
      },
      "execution_count": 7,
      "outputs": []
    },
    {
      "cell_type": "code",
      "source": [
        "draw_dot(d)"
      ],
      "metadata": {
        "colab": {
          "base_uri": "https://localhost:8080/",
          "height": 192
        },
        "id": "Tp2ffAcJpL-3",
        "outputId": "95a976c1-ecb4-4e6a-fe5a-e3ecf80010f3"
      },
      "execution_count": 8,
      "outputs": [
        {
          "output_type": "execute_result",
          "data": {
            "image/svg+xml": "<?xml version=\"1.0\" encoding=\"UTF-8\" standalone=\"no\"?>\n<!DOCTYPE svg PUBLIC \"-//W3C//DTD SVG 1.1//EN\"\n \"http://www.w3.org/Graphics/SVG/1.1/DTD/svg11.dtd\">\n<!-- Generated by graphviz version 2.43.0 (0)\n -->\n<!-- Title: %3 Pages: 1 -->\n<svg width=\"512pt\" height=\"128pt\"\n viewBox=\"0.00 0.00 512.00 128.00\" xmlns=\"http://www.w3.org/2000/svg\" xmlns:xlink=\"http://www.w3.org/1999/xlink\">\n<g id=\"graph0\" class=\"graph\" transform=\"scale(1 1) rotate(0) translate(4 124)\">\n<title>%3</title>\n<polygon fill=\"white\" stroke=\"transparent\" points=\"-4,4 -4,-124 508,-124 508,4 -4,4\"/>\n<!-- 132011207487120 -->\n<g id=\"node1\" class=\"node\">\n<title>132011207487120</title>\n<polygon fill=\"none\" stroke=\"black\" points=\"424,-27.5 424,-63.5 504,-63.5 504,-27.5 424,-27.5\"/>\n<text text-anchor=\"middle\" x=\"464\" y=\"-41.8\" font-family=\"Times,serif\" font-size=\"14.00\">data 4.0000</text>\n</g>\n<!-- 132011207487120+ -->\n<g id=\"node2\" class=\"node\">\n<title>132011207487120+</title>\n<ellipse fill=\"none\" stroke=\"black\" cx=\"361\" cy=\"-45.5\" rx=\"27\" ry=\"18\"/>\n<text text-anchor=\"middle\" x=\"361\" y=\"-41.8\" font-family=\"Times,serif\" font-size=\"14.00\">+</text>\n</g>\n<!-- 132011207487120+&#45;&gt;132011207487120 -->\n<g id=\"edge1\" class=\"edge\">\n<title>132011207487120+&#45;&gt;132011207487120</title>\n<path fill=\"none\" stroke=\"black\" d=\"M388.01,-45.5C395.82,-45.5 404.67,-45.5 413.48,-45.5\"/>\n<polygon fill=\"black\" stroke=\"black\" points=\"413.73,-49 423.73,-45.5 413.73,-42 413.73,-49\"/>\n</g>\n<!-- 132011207490816 -->\n<g id=\"node3\" class=\"node\">\n<title>132011207490816</title>\n<polygon fill=\"none\" stroke=\"black\" points=\"2.5,-83.5 2.5,-119.5 82.5,-119.5 82.5,-83.5 2.5,-83.5\"/>\n<text text-anchor=\"middle\" x=\"42.5\" y=\"-97.8\" font-family=\"Times,serif\" font-size=\"14.00\">data 2.0000</text>\n</g>\n<!-- 132011207486928* -->\n<g id=\"node6\" class=\"node\">\n<title>132011207486928*</title>\n<ellipse fill=\"none\" stroke=\"black\" cx=\"148\" cy=\"-73.5\" rx=\"27\" ry=\"18\"/>\n<text text-anchor=\"middle\" x=\"148\" y=\"-69.8\" font-family=\"Times,serif\" font-size=\"14.00\">*</text>\n</g>\n<!-- 132011207490816&#45;&gt;132011207486928* -->\n<g id=\"edge6\" class=\"edge\">\n<title>132011207490816&#45;&gt;132011207486928*</title>\n<path fill=\"none\" stroke=\"black\" d=\"M82.63,-90.91C92.66,-88.2 103.36,-85.31 113.09,-82.67\"/>\n<polygon fill=\"black\" stroke=\"black\" points=\"114.09,-86.03 122.83,-80.04 112.26,-79.27 114.09,-86.03\"/>\n</g>\n<!-- 132011207488800 -->\n<g id=\"node4\" class=\"node\">\n<title>132011207488800</title>\n<polygon fill=\"none\" stroke=\"black\" points=\"0,-28.5 0,-64.5 85,-64.5 85,-28.5 0,-28.5\"/>\n<text text-anchor=\"middle\" x=\"42.5\" y=\"-42.8\" font-family=\"Times,serif\" font-size=\"14.00\">data &#45;3.0000</text>\n</g>\n<!-- 132011207488800&#45;&gt;132011207486928* -->\n<g id=\"edge5\" class=\"edge\">\n<title>132011207488800&#45;&gt;132011207486928*</title>\n<path fill=\"none\" stroke=\"black\" d=\"M85,-57.33C94.14,-59.71 103.72,-62.21 112.54,-64.51\"/>\n<polygon fill=\"black\" stroke=\"black\" points=\"111.91,-67.96 122.47,-67.1 113.68,-61.19 111.91,-67.96\"/>\n</g>\n<!-- 132011207486928 -->\n<g id=\"node5\" class=\"node\">\n<title>132011207486928</title>\n<polygon fill=\"none\" stroke=\"black\" points=\"212,-55.5 212,-91.5 297,-91.5 297,-55.5 212,-55.5\"/>\n<text text-anchor=\"middle\" x=\"254.5\" y=\"-69.8\" font-family=\"Times,serif\" font-size=\"14.00\">data &#45;6.0000</text>\n</g>\n<!-- 132011207486928&#45;&gt;132011207487120+ -->\n<g id=\"edge4\" class=\"edge\">\n<title>132011207486928&#45;&gt;132011207487120+</title>\n<path fill=\"none\" stroke=\"black\" d=\"M297.1,-62.35C306.61,-59.8 316.62,-57.12 325.78,-54.67\"/>\n<polygon fill=\"black\" stroke=\"black\" points=\"326.94,-57.98 335.69,-52.01 325.12,-51.22 326.94,-57.98\"/>\n</g>\n<!-- 132011207486928*&#45;&gt;132011207486928 -->\n<g id=\"edge2\" class=\"edge\">\n<title>132011207486928*&#45;&gt;132011207486928</title>\n<path fill=\"none\" stroke=\"black\" d=\"M175.1,-73.5C183.27,-73.5 192.59,-73.5 201.88,-73.5\"/>\n<polygon fill=\"black\" stroke=\"black\" points=\"201.89,-77 211.89,-73.5 201.89,-70 201.89,-77\"/>\n</g>\n<!-- 132011207483376 -->\n<g id=\"node7\" class=\"node\">\n<title>132011207483376</title>\n<polygon fill=\"none\" stroke=\"black\" points=\"211,-0.5 211,-36.5 298,-36.5 298,-0.5 211,-0.5\"/>\n<text text-anchor=\"middle\" x=\"254.5\" y=\"-14.8\" font-family=\"Times,serif\" font-size=\"14.00\">data 10.0000</text>\n</g>\n<!-- 132011207483376&#45;&gt;132011207487120+ -->\n<g id=\"edge3\" class=\"edge\">\n<title>132011207483376&#45;&gt;132011207487120+</title>\n<path fill=\"none\" stroke=\"black\" d=\"M298,-29.48C307.18,-31.85 316.78,-34.33 325.6,-36.61\"/>\n<polygon fill=\"black\" stroke=\"black\" points=\"324.97,-40.07 335.53,-39.18 326.73,-33.29 324.97,-40.07\"/>\n</g>\n</g>\n</svg>\n",
            "text/plain": [
              "<graphviz.graphs.Digraph at 0x781041256260>"
            ]
          },
          "metadata": {},
          "execution_count": 8
        }
      ]
    },
    {
      "cell_type": "code",
      "source": [
        "d._prev, d._op"
      ],
      "metadata": {
        "colab": {
          "base_uri": "https://localhost:8080/"
        },
        "id": "YqTI4snXvZKt",
        "outputId": "93d2f2fe-d8f5-4424-a556-e3b290be7b0f"
      },
      "execution_count": 9,
      "outputs": [
        {
          "output_type": "execute_result",
          "data": {
            "text/plain": [
              "({Value(data=-6.0), Value(data=10)}, '+')"
            ]
          },
          "metadata": {},
          "execution_count": 9
        }
      ]
    },
    {
      "cell_type": "code",
      "source": [
        "for n in d._prev:\n",
        "    print(n)\n",
        "    print(n._prev,n._op)"
      ],
      "metadata": {
        "colab": {
          "base_uri": "https://localhost:8080/"
        },
        "id": "WejjqiTPvgoe",
        "outputId": "3d400f97-348d-4271-85fa-c5b6ca762d5b"
      },
      "execution_count": 10,
      "outputs": [
        {
          "output_type": "stream",
          "name": "stdout",
          "text": [
            "Value(data=-6.0)\n",
            "{Value(data=2.0), Value(data=-3.0)} *\n",
            "Value(data=10)\n",
            "set() \n"
          ]
        }
      ]
    },
    {
      "cell_type": "code",
      "source": [
        "trace(d)"
      ],
      "metadata": {
        "colab": {
          "base_uri": "https://localhost:8080/"
        },
        "id": "RmEv0UzxupeF",
        "outputId": "bb68e45a-f388-4c56-cd19-948de26bc57a"
      },
      "execution_count": 11,
      "outputs": [
        {
          "output_type": "execute_result",
          "data": {
            "text/plain": [
              "({Value(data=-3.0),\n",
              "  Value(data=-6.0),\n",
              "  Value(data=10),\n",
              "  Value(data=2.0),\n",
              "  Value(data=4.0)},\n",
              " {(Value(data=-3.0), Value(data=-6.0)),\n",
              "  (Value(data=-6.0), Value(data=4.0)),\n",
              "  (Value(data=10), Value(data=4.0)),\n",
              "  (Value(data=2.0), Value(data=-6.0))})"
            ]
          },
          "metadata": {},
          "execution_count": 11
        }
      ]
    },
    {
      "cell_type": "code",
      "source": [
        "nodes, edges = trace(d)"
      ],
      "metadata": {
        "id": "_D3J4RcApPvO"
      },
      "execution_count": 12,
      "outputs": []
    },
    {
      "cell_type": "code",
      "source": [
        "nodes"
      ],
      "metadata": {
        "colab": {
          "base_uri": "https://localhost:8080/"
        },
        "id": "CxqY7etTqbsH",
        "outputId": "adf8e3bb-9135-48e3-f1eb-31d49e5d125d"
      },
      "execution_count": 13,
      "outputs": [
        {
          "output_type": "execute_result",
          "data": {
            "text/plain": [
              "{Value(data=-3.0),\n",
              " Value(data=-6.0),\n",
              " Value(data=10),\n",
              " Value(data=2.0),\n",
              " Value(data=4.0)}"
            ]
          },
          "metadata": {},
          "execution_count": 13
        }
      ]
    },
    {
      "cell_type": "code",
      "source": [
        "for element in nodes:\n",
        "    print(id(element))"
      ],
      "metadata": {
        "colab": {
          "base_uri": "https://localhost:8080/"
        },
        "id": "vzCQUsyrrED-",
        "outputId": "39add66b-8570-46d2-f8ee-c532ffd47dc5"
      },
      "execution_count": 14,
      "outputs": [
        {
          "output_type": "stream",
          "name": "stdout",
          "text": [
            "132011207487120\n",
            "132011207490816\n",
            "132011207488800\n",
            "132011207486928\n",
            "132011207483376\n"
          ]
        }
      ]
    },
    {
      "cell_type": "code",
      "source": [
        "edges"
      ],
      "metadata": {
        "colab": {
          "base_uri": "https://localhost:8080/"
        },
        "id": "th-FCmUNq8OG",
        "outputId": "ec9ee10e-a57b-4d1b-b8a1-d8843ee35555"
      },
      "execution_count": 15,
      "outputs": [
        {
          "output_type": "execute_result",
          "data": {
            "text/plain": [
              "{(Value(data=-3.0), Value(data=-6.0)),\n",
              " (Value(data=-6.0), Value(data=4.0)),\n",
              " (Value(data=10), Value(data=4.0)),\n",
              " (Value(data=2.0), Value(data=-6.0))}"
            ]
          },
          "metadata": {},
          "execution_count": 15
        }
      ]
    },
    {
      "cell_type": "code",
      "source": [],
      "metadata": {
        "id": "3qXDC7Zsq81H"
      },
      "execution_count": 15,
      "outputs": []
    }
  ]
}