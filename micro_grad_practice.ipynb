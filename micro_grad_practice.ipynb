{
  "nbformat": 4,
  "nbformat_minor": 0,
  "metadata": {
    "colab": {
      "provenance": [],
      "authorship_tag": "ABX9TyOWGyeUpT15+ss9JNLsVcz7",
      "include_colab_link": true
    },
    "kernelspec": {
      "name": "python3",
      "display_name": "Python 3"
    },
    "language_info": {
      "name": "python"
    }
  },
  "cells": [
    {
      "cell_type": "markdown",
      "metadata": {
        "id": "view-in-github",
        "colab_type": "text"
      },
      "source": [
        "<a href=\"https://colab.research.google.com/github/guptamols/zero_to_hero_nn/blob/main/micro_grad_practice.ipynb\" target=\"_parent\"><img src=\"https://colab.research.google.com/assets/colab-badge.svg\" alt=\"Open In Colab\"/></a>"
      ]
    },
    {
      "cell_type": "code",
      "execution_count": 1,
      "metadata": {
        "colab": {
          "base_uri": "https://localhost:8080/"
        },
        "id": "qFK1fHbtaOah",
        "outputId": "ce1ee644-85be-433e-c5b2-b3b89e28d974"
      },
      "outputs": [
        {
          "output_type": "stream",
          "name": "stdout",
          "text": [
            "Mounted at /content/gdrive\n"
          ]
        }
      ],
      "source": [
        "from google.colab import drive\n",
        "drive.mount(\"/content/gdrive\",force_remount=True)"
      ]
    },
    {
      "cell_type": "code",
      "source": [
        "import os\n",
        "os.chdir('gdrive/MyDrive/zero_to_hero_nn/zero_to_hero_nn')"
      ],
      "metadata": {
        "id": "3pg4zK2sbEV2"
      },
      "execution_count": 2,
      "outputs": []
    },
    {
      "cell_type": "code",
      "source": [
        "! git status"
      ],
      "metadata": {
        "id": "KcCbo9WCbPrg",
        "colab": {
          "base_uri": "https://localhost:8080/"
        },
        "outputId": "fe4c09d6-fc51-4dc9-ef87-ede747325284"
      },
      "execution_count": 15,
      "outputs": [
        {
          "output_type": "stream",
          "name": "stdout",
          "text": [
            "On branch main\n",
            "Your branch is up to date with 'origin/main'.\n",
            "\n",
            "Untracked files:\n",
            "  (use \"git add <file>...\" to include in what will be committed)\n",
            "\t\u001b[31mmicro_grad_practice.ipynb\u001b[m\n",
            "\n",
            "nothing added to commit but untracked files present (use \"git add\" to track)\n"
          ]
        }
      ]
    },
    {
      "cell_type": "code",
      "source": [],
      "metadata": {
        "id": "cq3dLdxymjml"
      },
      "execution_count": null,
      "outputs": []
    },
    {
      "cell_type": "markdown",
      "source": [
        "### References\n",
        "https://github.com/AayushSameerShah/Neural-Net-Zero-to-Hero-with-Andrej\n",
        "\n",
        "https://karpathy.medium.com/yes-you-should-understand-backprop-e2f06eab496b\n",
        "\n",
        "https://medium.com/@0ssamaak0/how-open-ais-andrej-karpathy-made-one-of-the-best-tutorials-in-deep-learning-e6b6445a2d05\n",
        "\n",
        "https://github.com/karpathy/nn-zero-to-hero/tree/master\n",
        "\n",
        "https://colab.research.google.com/drive/11SbzRCfRAXyveiri8CJ7Bjbn4MfiyvsL#scrollTo=yk3QDMPjWyYp\n",
        "\n",
        "https://github.com/Anri-Lombard/micrograd"
      ],
      "metadata": {
        "id": "V_LXtzP7dz2N"
      }
    },
    {
      "cell_type": "code",
      "source": [
        "! pwd"
      ],
      "metadata": {
        "colab": {
          "base_uri": "https://localhost:8080/"
        },
        "id": "RoxLvYkyd9gx",
        "outputId": "c22b7f96-c74f-4a81-ac49-414ecbaf7f89"
      },
      "execution_count": 3,
      "outputs": [
        {
          "output_type": "stream",
          "name": "stdout",
          "text": [
            "/content/gdrive/MyDrive/zero_to_hero_nn/zero_to_hero_nn\n"
          ]
        }
      ]
    },
    {
      "cell_type": "code",
      "source": [
        "! git remote set-url origin git@github.com:'guptamols'/'https://github.com/guptamols/zero_to_hero_nn.git'"
      ],
      "metadata": {
        "id": "W_EscAT6ga27"
      },
      "execution_count": 13,
      "outputs": []
    },
    {
      "cell_type": "code",
      "source": [
        "! git remote -v"
      ],
      "metadata": {
        "colab": {
          "base_uri": "https://localhost:8080/"
        },
        "id": "QeqWd3tLhQak",
        "outputId": "e4dc32d7-b3af-4b7b-8cd2-0d1249d51020"
      },
      "execution_count": 19,
      "outputs": [
        {
          "output_type": "stream",
          "name": "stdout",
          "text": [
            "origin\thttps://github.com/guptamols/zero_to_hero_nn.git (fetch)\n",
            "origin\thttps://github.com/guptamols/zero_to_hero_nn.git (push)\n"
          ]
        }
      ]
    },
    {
      "cell_type": "code",
      "source": [
        "! git remote set-url origin https://github.com/guptamols/zero_to_hero_nn.git"
      ],
      "metadata": {
        "id": "VCz4p6uviYQD"
      },
      "execution_count": 18,
      "outputs": []
    },
    {
      "cell_type": "code",
      "source": [
        "! git push origin main"
      ],
      "metadata": {
        "colab": {
          "base_uri": "https://localhost:8080/"
        },
        "id": "CH5nh0TQkUZI",
        "outputId": "b7e0b26b-3bda-4683-ef3f-1afacbc7da1e"
      },
      "execution_count": 22,
      "outputs": [
        {
          "output_type": "stream",
          "name": "stdout",
          "text": [
            "Everything up-to-date\n"
          ]
        }
      ]
    },
    {
      "cell_type": "code",
      "source": [],
      "metadata": {
        "id": "BWOwqMTDmcuK"
      },
      "execution_count": null,
      "outputs": []
    }
  ]
}